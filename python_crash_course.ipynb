{
  "cells": [
    {
      "cell_type": "markdown",
      "metadata": {
        "id": "1sjTzQAJjBSo"
      },
      "source": [
        "# **Python Crash Course for Beginners (คอร์สเร่งรัด Python สำหรับผู้เริ่มต้น)**\n",
        "\n",
        "Chanin Nantasenamat, PhD\n",
        "\n",
        "[*Professor Chanin YouTube channel*](https://www.youtube.com/@ProfessorChanin)\n",
        "\n",
        "> This Jupyter notebook contains an introduction to Python programming fundamentals with bilingual explanations in English and Thai.\n",
        ">\n",
        "> สมุดบันทึก Jupyter นี้เป็นบทแนะนำเกี่ยวกับหลักการเขียนโปรแกรมภาษา Python พร้อมคำอธิบายสองภาษาทั้งภาษาอังกฤษและภาษาไทย"
      ]
    },
    {
      "cell_type": "markdown",
      "metadata": {
        "id": "CZUZMBCKjBSp"
      },
      "source": [
        "## 1. Introduction to Python (แนะนำ Python)\n",
        "\n",
        "Python is a high-level, interpreted programming language known for its simplicity and readability\n",
        "\n",
        "Python เป็นภาษาโปรแกรมมิ่งระดับสูงที่ถูกแปลความหมาย ที่มีชื่อเสียงในด้านความเรียบง่ายและความอ่านง่าย"
      ]
    },
    {
      "cell_type": "code",
      "execution_count": null,
      "metadata": {
        "id": "hsWDBXFwjBSp",
        "colab": {
          "base_uri": "https://localhost:8080/"
        },
        "outputId": "e85f93bb-41b8-4ed8-86e9-b71d8384a9a2"
      },
      "outputs": [
        {
          "output_type": "stream",
          "name": "stdout",
          "text": [
            "Hello, World!\n"
          ]
        }
      ],
      "source": [
        "# Your first Python program (โปรแกรม Python แรกของคุณ)\n",
        "print(\"Hello, World!\")"
      ]
    },
    {
      "cell_type": "markdown",
      "source": [
        "### Writing comments in Python"
      ],
      "metadata": {
        "id": "-fD6dCdb0gR-"
      }
    },
    {
      "cell_type": "markdown",
      "source": [
        "# H1 heading\n",
        "## H2 heading\n",
        "### H3 heading\n",
        "This is a link to [Google](http://google.com). This is **bold** and in *italic* and this _too_"
      ],
      "metadata": {
        "id": "ZUoBO5xorKtL"
      }
    },
    {
      "cell_type": "code",
      "source": [
        "# This is how you write comments in Python\n",
        "\n",
        "# นี่คือวิธีการเขียนคอมเมนต์ใน Python"
      ],
      "metadata": {
        "id": "kxCFIody0iAH"
      },
      "execution_count": null,
      "outputs": []
    },
    {
      "cell_type": "markdown",
      "metadata": {
        "id": "sdaEkqy0jBSq"
      },
      "source": [
        "### Python Installation and Setup (การติดตั้งและการตั้งค่า Python)\n",
        "\n",
        "To get started with Python, you'll need to:\n",
        "\n",
        "1. Download Python from python.org\n",
        "2. Install a code editor - we recommend VS Code or PyCharm\n",
        "3. Learn to use the Python interpreter via Read, Evaluate, Print, and Loop (REPL)\n",
        "\n",
        "ในการเริ่มต้นใช้งาน Python คุณจำเป็นต้อง:\n",
        "1. ดาวน์โหลด Python จาก python.org\n",
        "2. ติดตั้งโปรแกรมแก้ไขโค้ด - แนะนำให้ใช้ VS Code หรือ PyCharm\n",
        "3. เรียนรู้การใช้งานตัวแปลภาษา Python ผ่านการอ่าน ประมวลผล แสดงผล และวนซ้ำ (REPL)"
      ]
    },
    {
      "cell_type": "code",
      "execution_count": null,
      "metadata": {
        "id": "FnjF6GGpjBSq",
        "colab": {
          "base_uri": "https://localhost:8080/",
          "height": 35
        },
        "outputId": "9724f346-63da-4261-c0c8-8c3891c5c179"
      },
      "outputs": [
        {
          "output_type": "execute_result",
          "data": {
            "text/plain": [
              "'3.11.11 (main, Dec  4 2024, 08:55:07) [GCC 11.4.0]'"
            ],
            "application/vnd.google.colaboratory.intrinsic+json": {
              "type": "string"
            }
          },
          "metadata": {},
          "execution_count": 10
        }
      ],
      "source": [
        "# Check your Python version\n",
        "# ตรวจสอบเวอร์ชัน Python ของคุณ\n",
        "import sys\n",
        "\n",
        "sys.version"
      ]
    },
    {
      "cell_type": "markdown",
      "source": [
        "## 2. Creating/using variables (การสร้างตัวแปรและการใช้)"
      ],
      "metadata": {
        "id": "z0u74Qj93Q5d"
      }
    },
    {
      "cell_type": "code",
      "source": [
        "x = 1"
      ],
      "metadata": {
        "id": "06IqW3-O3QQe"
      },
      "execution_count": null,
      "outputs": []
    },
    {
      "cell_type": "code",
      "source": [
        "x"
      ],
      "metadata": {
        "id": "7XqMqX9v3hqA",
        "colab": {
          "base_uri": "https://localhost:8080/"
        },
        "outputId": "297a42ad-8146-421f-8048-c7a81d8ade8a"
      },
      "execution_count": null,
      "outputs": [
        {
          "output_type": "execute_result",
          "data": {
            "text/plain": [
              "1"
            ]
          },
          "metadata": {},
          "execution_count": 12
        }
      ]
    },
    {
      "cell_type": "code",
      "source": [
        "y = \"Hello!\""
      ],
      "metadata": {
        "id": "8CpqvsVT9ODs"
      },
      "execution_count": null,
      "outputs": []
    },
    {
      "cell_type": "code",
      "source": [
        "y"
      ],
      "metadata": {
        "id": "pkEyeLoO9UE8",
        "colab": {
          "base_uri": "https://localhost:8080/",
          "height": 35
        },
        "outputId": "c38b2d72-ac02-4539-9fa1-a7502a382231"
      },
      "execution_count": null,
      "outputs": [
        {
          "output_type": "execute_result",
          "data": {
            "text/plain": [
              "'Hello!'"
            ],
            "application/vnd.google.colaboratory.intrinsic+json": {
              "type": "string"
            }
          },
          "metadata": {},
          "execution_count": 14
        }
      ]
    },
    {
      "cell_type": "code",
      "source": [
        "z = 2\n",
        "a = x + z"
      ],
      "metadata": {
        "id": "eEVSf8pLuDAM"
      },
      "execution_count": null,
      "outputs": []
    },
    {
      "cell_type": "code",
      "source": [
        "a"
      ],
      "metadata": {
        "colab": {
          "base_uri": "https://localhost:8080/"
        },
        "id": "5kD5SNzNuI6V",
        "outputId": "f0848e15-f232-4b13-968f-056629ae1681"
      },
      "execution_count": null,
      "outputs": [
        {
          "output_type": "execute_result",
          "data": {
            "text/plain": [
              "3"
            ]
          },
          "metadata": {},
          "execution_count": 16
        }
      ]
    },
    {
      "cell_type": "code",
      "source": [
        "print(a)"
      ],
      "metadata": {
        "colab": {
          "base_uri": "https://localhost:8080/"
        },
        "id": "38tWq0TcuOGa",
        "outputId": "4a80cc70-fcbe-4ed0-e17d-f32f1ddbe8da"
      },
      "execution_count": null,
      "outputs": [
        {
          "output_type": "stream",
          "name": "stdout",
          "text": [
            "3\n"
          ]
        }
      ]
    },
    {
      "cell_type": "code",
      "source": [
        "print(\"a\")"
      ],
      "metadata": {
        "colab": {
          "base_uri": "https://localhost:8080/"
        },
        "id": "WQMHeeucuQTh",
        "outputId": "1aeeb02d-e2fb-4497-c9a3-2b2667fcfb1e"
      },
      "execution_count": null,
      "outputs": [
        {
          "output_type": "stream",
          "name": "stdout",
          "text": [
            "a\n"
          ]
        }
      ]
    },
    {
      "cell_type": "markdown",
      "metadata": {
        "id": "b-yI0-NkjBSq"
      },
      "source": [
        "## 3. Basic Data Types (ชนิดของข้อมูล)"
      ]
    },
    {
      "cell_type": "markdown",
      "source": [
        "To check data types, we can use the `type()` function. Functions can accept input arguments (inside the parenthesis you can define the input argument, in this case it is `x`)\n",
        "\n",
        "การตรวจสอบประเภทข้อมูล สามารถใช้ฟังก์ชัน `type()`."
      ],
      "metadata": {
        "id": "njNEcBIg9hM_"
      }
    },
    {
      "cell_type": "code",
      "source": [
        "type(x)"
      ],
      "metadata": {
        "id": "ofbyQmxC9W_S",
        "colab": {
          "base_uri": "https://localhost:8080/"
        },
        "outputId": "464e0f75-101e-483b-d3ff-bf72cc871635"
      },
      "execution_count": null,
      "outputs": [
        {
          "output_type": "execute_result",
          "data": {
            "text/plain": [
              "int"
            ]
          },
          "metadata": {},
          "execution_count": 19
        }
      ]
    },
    {
      "cell_type": "code",
      "source": [
        "type(y)"
      ],
      "metadata": {
        "id": "rxY_JqbA9Ya1",
        "colab": {
          "base_uri": "https://localhost:8080/"
        },
        "outputId": "dd13ad21-44eb-45bb-fde5-eaf1dc72c23c"
      },
      "execution_count": null,
      "outputs": [
        {
          "output_type": "execute_result",
          "data": {
            "text/plain": [
              "str"
            ]
          },
          "metadata": {},
          "execution_count": 20
        }
      ]
    },
    {
      "cell_type": "markdown",
      "source": [
        "Python has several built-in data types:\n",
        "\n",
        "Python มีชนิดข้อมูลพื้นฐานหลายประเภท:"
      ],
      "metadata": {
        "id": "nxVx87HJ9exZ"
      }
    },
    {
      "cell_type": "markdown",
      "source": [
        "### 3.1. Numeric Types (ชนิดข้อมูลตัวเลข)"
      ],
      "metadata": {
        "id": "gGleIHa-_UON"
      }
    },
    {
      "cell_type": "markdown",
      "source": [
        "`int` (จำนวนเต็ม)"
      ],
      "metadata": {
        "id": "akTXdqFQ_KPD"
      }
    },
    {
      "cell_type": "code",
      "source": [
        "42"
      ],
      "metadata": {
        "id": "5qRiL-7G_jak",
        "colab": {
          "base_uri": "https://localhost:8080/"
        },
        "outputId": "11401e03-17e4-4bdb-9b78-4d416198d9ac"
      },
      "execution_count": null,
      "outputs": [
        {
          "output_type": "execute_result",
          "data": {
            "text/plain": [
              "42"
            ]
          },
          "metadata": {},
          "execution_count": 21
        }
      ]
    },
    {
      "cell_type": "markdown",
      "source": [
        "`float` (ทศนิยม)"
      ],
      "metadata": {
        "id": "lzwFGFJv_jk7"
      }
    },
    {
      "cell_type": "code",
      "source": [
        "3.14"
      ],
      "metadata": {
        "id": "wfUI7v1s_oT2",
        "colab": {
          "base_uri": "https://localhost:8080/"
        },
        "outputId": "3bff6403-f93d-4eb3-df10-9782c606b836"
      },
      "execution_count": null,
      "outputs": [
        {
          "output_type": "execute_result",
          "data": {
            "text/plain": [
              "3.14"
            ]
          },
          "metadata": {},
          "execution_count": 22
        }
      ]
    },
    {
      "cell_type": "markdown",
      "source": [
        "### 3.2. Sequence Type (ชนิดข้อมูลลำดับ)"
      ],
      "metadata": {
        "id": "eEX4JB9-AtBg"
      }
    },
    {
      "cell_type": "markdown",
      "source": [
        "List - mutable sequence\n",
        "\n",
        "ลิสต์ - ลำดับที่เปลี่ยนแปลงได้"
      ],
      "metadata": {
        "id": "x9SJDy_uA2q5"
      }
    },
    {
      "cell_type": "code",
      "source": [
        "# List creation\n",
        "z = [1, 2, 3, \"hello\", True]\n",
        "z"
      ],
      "metadata": {
        "id": "6jxqrTFlAwd8",
        "colab": {
          "base_uri": "https://localhost:8080/"
        },
        "outputId": "6bd6f5ad-8a5f-4d65-9364-db6619eae16c"
      },
      "execution_count": null,
      "outputs": [
        {
          "output_type": "execute_result",
          "data": {
            "text/plain": [
              "[1, 2, 3, 'hello', True]"
            ]
          },
          "metadata": {},
          "execution_count": 23
        }
      ]
    },
    {
      "cell_type": "code",
      "source": [
        "z[-3]"
      ],
      "metadata": {
        "colab": {
          "base_uri": "https://localhost:8080/"
        },
        "id": "599A8J0mwPM0",
        "outputId": "9a820922-129d-43fb-c046-750f812c0fa3"
      },
      "execution_count": null,
      "outputs": [
        {
          "output_type": "execute_result",
          "data": {
            "text/plain": [
              "3"
            ]
          },
          "metadata": {},
          "execution_count": 29
        }
      ]
    },
    {
      "cell_type": "code",
      "source": [
        "# Lists can be modified\n",
        "z[0] = 10\n",
        "z"
      ],
      "metadata": {
        "id": "RfKHLf0aA6Pa",
        "colab": {
          "base_uri": "https://localhost:8080/"
        },
        "outputId": "3745cdab-1cca-4473-c748-1526a893e4f9"
      },
      "execution_count": null,
      "outputs": [
        {
          "output_type": "execute_result",
          "data": {
            "text/plain": [
              "[10, 2, 3, 'hello', True]"
            ]
          },
          "metadata": {},
          "execution_count": 30
        }
      ]
    },
    {
      "cell_type": "markdown",
      "source": [
        "List operations\n",
        "\n",
        "การดำเนินการกับลิสต์"
      ],
      "metadata": {
        "id": "-bdClzF0BsGz"
      }
    },
    {
      "cell_type": "code",
      "source": [
        "# Add item to the end of a list\n",
        "z.append(0)\n",
        "z"
      ],
      "metadata": {
        "id": "-Mpe5_woBbjy",
        "colab": {
          "base_uri": "https://localhost:8080/"
        },
        "outputId": "0c2db9b7-c1e0-4def-e356-7f3f6affd72b"
      },
      "execution_count": null,
      "outputs": [
        {
          "output_type": "execute_result",
          "data": {
            "text/plain": [
              "[10, 2, 3, 'hello', True, 0]"
            ]
          },
          "metadata": {},
          "execution_count": 31
        }
      ]
    },
    {
      "cell_type": "code",
      "source": [
        "# Insert at specific position\n",
        "# Here, we're adding 1 at position 0\n",
        "z.insert(0, 1)\n",
        "z"
      ],
      "metadata": {
        "id": "zSwaRP9lB6Bx",
        "colab": {
          "base_uri": "https://localhost:8080/"
        },
        "outputId": "414073d9-e28b-4013-9d82-7fae91ec062d"
      },
      "execution_count": null,
      "outputs": [
        {
          "output_type": "execute_result",
          "data": {
            "text/plain": [
              "[1, 10, 2, 3, 'hello', True, 0]"
            ]
          },
          "metadata": {},
          "execution_count": 32
        }
      ]
    },
    {
      "cell_type": "code",
      "source": [
        "# Remove item from list\n",
        "z.remove(10)\n",
        "z"
      ],
      "metadata": {
        "id": "caAJqc46CPb2",
        "colab": {
          "base_uri": "https://localhost:8080/"
        },
        "outputId": "0bbb7610-a488-485f-dd69-2f0c6167ff49"
      },
      "execution_count": null,
      "outputs": [
        {
          "output_type": "execute_result",
          "data": {
            "text/plain": [
              "[1, 2, 3, 'hello', True, 0]"
            ]
          },
          "metadata": {},
          "execution_count": 33
        }
      ]
    },
    {
      "cell_type": "code",
      "source": [
        "# List length\n",
        "len(z)"
      ],
      "metadata": {
        "id": "8kNFP_UkCwSJ",
        "colab": {
          "base_uri": "https://localhost:8080/"
        },
        "outputId": "fa6533c9-d908-47c7-8c54-9caea2606779"
      },
      "execution_count": null,
      "outputs": [
        {
          "output_type": "execute_result",
          "data": {
            "text/plain": [
              "6"
            ]
          },
          "metadata": {},
          "execution_count": 34
        }
      ]
    },
    {
      "cell_type": "code",
      "source": [
        "# Sort list\n",
        "a = [4, 2, 1, 3]\n",
        "a.sort()\n",
        "a"
      ],
      "metadata": {
        "id": "kVhGIavmC4DP",
        "colab": {
          "base_uri": "https://localhost:8080/"
        },
        "outputId": "d0d3c704-6fea-4b8f-9cce-04d0a645a114"
      },
      "execution_count": null,
      "outputs": [
        {
          "output_type": "execute_result",
          "data": {
            "text/plain": [
              "[1, 2, 3, 4]"
            ]
          },
          "metadata": {},
          "execution_count": 35
        }
      ]
    },
    {
      "cell_type": "code",
      "source": [
        "# Maximum value in a list\n",
        "max(a)"
      ],
      "metadata": {
        "id": "fuwi9q_eDNPc",
        "colab": {
          "base_uri": "https://localhost:8080/"
        },
        "outputId": "aacc76a8-fd6f-4608-e6fd-144d0ea7606f"
      },
      "execution_count": null,
      "outputs": [
        {
          "output_type": "execute_result",
          "data": {
            "text/plain": [
              "4"
            ]
          },
          "metadata": {},
          "execution_count": 36
        }
      ]
    },
    {
      "cell_type": "code",
      "source": [
        "# Minimum value in a list\n",
        "min(a)"
      ],
      "metadata": {
        "id": "aiRAv2TvDW-n",
        "colab": {
          "base_uri": "https://localhost:8080/"
        },
        "outputId": "c8bc88ca-12d7-4d81-fcc7-5838cc8511e0"
      },
      "execution_count": null,
      "outputs": [
        {
          "output_type": "execute_result",
          "data": {
            "text/plain": [
              "1"
            ]
          },
          "metadata": {},
          "execution_count": 37
        }
      ]
    },
    {
      "cell_type": "code",
      "source": [
        "# Create sequence 0-4\n",
        "# range(5) is equal to [0, 1, 2, 3, 4]\n",
        "range(5)"
      ],
      "metadata": {
        "id": "9Fykgs6CDZdg",
        "colab": {
          "base_uri": "https://localhost:8080/"
        },
        "outputId": "a82cfca3-0d43-449f-adab-0e2d3e088022"
      },
      "execution_count": null,
      "outputs": [
        {
          "output_type": "execute_result",
          "data": {
            "text/plain": [
              "range(0, 5)"
            ]
          },
          "metadata": {},
          "execution_count": 38
        }
      ]
    },
    {
      "cell_type": "code",
      "source": [
        "# for loop\n",
        "for i in range(5):\n",
        "  print(i)"
      ],
      "metadata": {
        "id": "VfQ87FA1D4vZ",
        "colab": {
          "base_uri": "https://localhost:8080/"
        },
        "outputId": "eff1556d-7ead-4b4d-b340-0ca4019c1d98"
      },
      "execution_count": null,
      "outputs": [
        {
          "output_type": "stream",
          "name": "stdout",
          "text": [
            "0\n",
            "1\n",
            "2\n",
            "3\n",
            "4\n"
          ]
        }
      ]
    },
    {
      "cell_type": "code",
      "source": [
        "for i in [0, 1, 2, 3, 4]:\n",
        "  print(i)"
      ],
      "metadata": {
        "colab": {
          "base_uri": "https://localhost:8080/"
        },
        "id": "VG67mwzKy-XR",
        "outputId": "5ee1ce47-6c55-4ed0-b697-9cbf50ba90cd"
      },
      "execution_count": null,
      "outputs": [
        {
          "output_type": "stream",
          "name": "stdout",
          "text": [
            "0\n",
            "1\n",
            "2\n",
            "3\n",
            "4\n"
          ]
        }
      ]
    },
    {
      "cell_type": "code",
      "source": [
        "import numpy as np\n",
        "\n",
        "for i in np.arange(0, 5, 1):\n",
        "  print(i)"
      ],
      "metadata": {
        "colab": {
          "base_uri": "https://localhost:8080/"
        },
        "id": "1wPqLcdFzGA-",
        "outputId": "f393eb4b-bd30-4672-b8e0-f7820b3ce4e9"
      },
      "execution_count": null,
      "outputs": [
        {
          "output_type": "stream",
          "name": "stdout",
          "text": [
            "0\n",
            "1\n",
            "2\n",
            "3\n",
            "4\n"
          ]
        }
      ]
    },
    {
      "cell_type": "markdown",
      "source": [
        "### 3.3. Strings (สตริง - ชนิดข้อมูลข้อความ)"
      ],
      "metadata": {
        "id": "FAOrwgpbE_KN"
      }
    },
    {
      "cell_type": "markdown",
      "source": [
        "String creation\n",
        "\n",
        "การสร้างสตริง"
      ],
      "metadata": {
        "id": "XvdTFbleFRad"
      }
    },
    {
      "cell_type": "code",
      "source": [
        "# Double quoted string\n",
        "\"Hello\""
      ],
      "metadata": {
        "id": "PpMRXhiWEiuR"
      },
      "execution_count": null,
      "outputs": []
    },
    {
      "cell_type": "code",
      "source": [
        "# Single quoted string\n",
        "'Hello'"
      ],
      "metadata": {
        "id": "UZOU93Y4FTnZ"
      },
      "execution_count": null,
      "outputs": []
    },
    {
      "cell_type": "code",
      "source": [
        "# Multi-line string\n",
        "\"\"\"This is a\n",
        "multi-line string\"\"\""
      ],
      "metadata": {
        "id": "Smv4dMrHFVDG"
      },
      "execution_count": null,
      "outputs": []
    },
    {
      "cell_type": "code",
      "source": [
        "# Adding quote in a quote (nested quote)\n",
        "\"This is a 'book'\""
      ],
      "metadata": {
        "colab": {
          "base_uri": "https://localhost:8080/",
          "height": 35
        },
        "id": "EWrKvleV0DCW",
        "outputId": "9e203c21-85ce-4b41-93a9-a9c86b166514"
      },
      "execution_count": null,
      "outputs": [
        {
          "output_type": "execute_result",
          "data": {
            "text/plain": [
              "\"This is a 'book'\""
            ],
            "application/vnd.google.colaboratory.intrinsic+json": {
              "type": "string"
            }
          },
          "metadata": {},
          "execution_count": 45
        }
      ]
    },
    {
      "cell_type": "markdown",
      "source": [
        "String concatenation\n",
        "\n",
        "การต่อสตริง"
      ],
      "metadata": {
        "id": "LItkErTyGDh4"
      }
    },
    {
      "cell_type": "code",
      "source": [
        "\"Hello\" + \" \" + \"World\""
      ],
      "metadata": {
        "id": "tljccRrzFjcI",
        "colab": {
          "base_uri": "https://localhost:8080/",
          "height": 35
        },
        "outputId": "d6b3dcb0-8ffa-44be-ff88-084c83812636"
      },
      "execution_count": null,
      "outputs": [
        {
          "output_type": "execute_result",
          "data": {
            "text/plain": [
              "'Hello World'"
            ],
            "application/vnd.google.colaboratory.intrinsic+json": {
              "type": "string"
            }
          },
          "metadata": {},
          "execution_count": 46
        }
      ]
    },
    {
      "cell_type": "markdown",
      "source": [
        "String methods\n",
        "\n",
        "เมธอดของสตริง"
      ],
      "metadata": {
        "id": "4evakjc7GYAD"
      }
    },
    {
      "cell_type": "code",
      "source": [
        "# Convert to uppercase\n",
        "# แปลงเป็นตัวพิมพ์ใหญ่\n",
        "\"Hello\".upper()"
      ],
      "metadata": {
        "id": "lW_DaM1JGNdh",
        "colab": {
          "base_uri": "https://localhost:8080/",
          "height": 35
        },
        "outputId": "9fe8def7-8513-4496-a3f1-819b75102593"
      },
      "execution_count": null,
      "outputs": [
        {
          "output_type": "execute_result",
          "data": {
            "text/plain": [
              "'HELLO'"
            ],
            "application/vnd.google.colaboratory.intrinsic+json": {
              "type": "string"
            }
          },
          "metadata": {},
          "execution_count": 47
        }
      ]
    },
    {
      "cell_type": "code",
      "source": [
        "# Convert to lowercase\n",
        "# แปลงเป็นตัวพิมพ์เล็ก\n",
        "\"Hello\".lower()"
      ],
      "metadata": {
        "id": "pWX9VRQfGosT",
        "colab": {
          "base_uri": "https://localhost:8080/",
          "height": 35
        },
        "outputId": "47e9234e-d986-4e7c-cdee-e0c49dab528a"
      },
      "execution_count": null,
      "outputs": [
        {
          "output_type": "execute_result",
          "data": {
            "text/plain": [
              "'hello'"
            ],
            "application/vnd.google.colaboratory.intrinsic+json": {
              "type": "string"
            }
          },
          "metadata": {},
          "execution_count": 48
        }
      ]
    },
    {
      "cell_type": "code",
      "source": [
        "# Get string length\n",
        "# นับความยาวสตริง\n",
        "len(\"Hello\")"
      ],
      "metadata": {
        "id": "UDQDxV_fGoBa",
        "colab": {
          "base_uri": "https://localhost:8080/"
        },
        "outputId": "a84c4c3d-2edc-445c-ce19-01175191d4a0"
      },
      "execution_count": null,
      "outputs": [
        {
          "output_type": "execute_result",
          "data": {
            "text/plain": [
              "5"
            ]
          },
          "metadata": {},
          "execution_count": 49
        }
      ]
    },
    {
      "cell_type": "markdown",
      "source": [
        "String formatting (f-strings)\n",
        "\n",
        "การจัดรูปแบบสตริง"
      ],
      "metadata": {
        "id": "eVqloJ9oG-f_"
      }
    },
    {
      "cell_type": "code",
      "source": [
        "name = 'Cherry'\n",
        "age = 11\n",
        "\n",
        "f\"My name is {name} and I am {age} years old\""
      ],
      "metadata": {
        "id": "uKtEABA6GxN0",
        "colab": {
          "base_uri": "https://localhost:8080/",
          "height": 35
        },
        "outputId": "bff30bd5-e28a-4d6c-ea82-eb2f7e1c73bc"
      },
      "execution_count": null,
      "outputs": [
        {
          "output_type": "execute_result",
          "data": {
            "text/plain": [
              "'My name is Cherry and I am 11 years old'"
            ],
            "application/vnd.google.colaboratory.intrinsic+json": {
              "type": "string"
            }
          },
          "metadata": {},
          "execution_count": 50
        }
      ]
    },
    {
      "cell_type": "markdown",
      "source": [
        "### 3.4. Set Type (ชนิดข้อมูลเซต)"
      ],
      "metadata": {
        "id": "n0MdcZCiJEyF"
      }
    },
    {
      "cell_type": "code",
      "source": [
        "# Creates {1, 2, 3, 4}\n",
        "s = {1, 2, 2, 3, 3, 4}\n",
        "s"
      ],
      "metadata": {
        "id": "Iz-pJFNvIvy0",
        "colab": {
          "base_uri": "https://localhost:8080/"
        },
        "outputId": "b3c2db88-aa13-4a98-c010-f5875aa79965"
      },
      "execution_count": null,
      "outputs": [
        {
          "output_type": "execute_result",
          "data": {
            "text/plain": [
              "{1, 2, 3, 4}"
            ]
          },
          "metadata": {},
          "execution_count": 51
        }
      ]
    },
    {
      "cell_type": "code",
      "source": [
        "# Add element\n",
        "s.add(5)\n",
        "s"
      ],
      "metadata": {
        "id": "DIf5Y9RNJbBA",
        "colab": {
          "base_uri": "https://localhost:8080/"
        },
        "outputId": "25a88fe9-34c8-497e-95a4-b541b318a54c"
      },
      "execution_count": null,
      "outputs": [
        {
          "output_type": "execute_result",
          "data": {
            "text/plain": [
              "{1, 2, 3, 4, 5}"
            ]
          },
          "metadata": {},
          "execution_count": 52
        }
      ]
    },
    {
      "cell_type": "code",
      "source": [
        "# Remove element\n",
        "s.remove(5)\n",
        "s"
      ],
      "metadata": {
        "id": "34A8_VdoJaDk",
        "colab": {
          "base_uri": "https://localhost:8080/"
        },
        "outputId": "8ca1952a-9021-4c10-9560-c8e1d13b6e56"
      },
      "execution_count": null,
      "outputs": [
        {
          "output_type": "execute_result",
          "data": {
            "text/plain": [
              "{1, 2, 3, 4}"
            ]
          },
          "metadata": {},
          "execution_count": 53
        }
      ]
    },
    {
      "cell_type": "code",
      "source": [
        "# Union\n",
        "{1, 2} | {2, 3}"
      ],
      "metadata": {
        "id": "nCTzAV7eJZYn",
        "colab": {
          "base_uri": "https://localhost:8080/"
        },
        "outputId": "f36a438c-8ede-490b-ffc2-6b5e8dc7da4c"
      },
      "execution_count": null,
      "outputs": [
        {
          "output_type": "execute_result",
          "data": {
            "text/plain": [
              "{1, 2, 3}"
            ]
          },
          "metadata": {},
          "execution_count": 54
        }
      ]
    },
    {
      "cell_type": "code",
      "source": [
        "# Intersection\n",
        "{1, 2} & {2, 3}"
      ],
      "metadata": {
        "id": "igVMs7lbJYiV",
        "colab": {
          "base_uri": "https://localhost:8080/"
        },
        "outputId": "36f568f2-8f3b-43d1-b0eb-cbfa383996d1"
      },
      "execution_count": null,
      "outputs": [
        {
          "output_type": "execute_result",
          "data": {
            "text/plain": [
              "{2}"
            ]
          },
          "metadata": {},
          "execution_count": 55
        }
      ]
    },
    {
      "cell_type": "code",
      "source": [
        "# Difference\n",
        "# 1 is the only element that appears in the first set but not in the second set\n",
        "{1, 2} - {2, 3}"
      ],
      "metadata": {
        "id": "O5GQ0rtZJX3D",
        "colab": {
          "base_uri": "https://localhost:8080/"
        },
        "outputId": "e23da767-04a1-43a1-ad2b-b4b7b50cf75f"
      },
      "execution_count": null,
      "outputs": [
        {
          "output_type": "execute_result",
          "data": {
            "text/plain": [
              "{1}"
            ]
          },
          "metadata": {},
          "execution_count": 56
        }
      ]
    },
    {
      "cell_type": "code",
      "source": [
        "# Symmetric difference\n",
        "# elements that appear in either set but not both\n",
        "{1, 2} ^ {2, 3}"
      ],
      "metadata": {
        "id": "-7ixYUlaJy2s",
        "colab": {
          "base_uri": "https://localhost:8080/"
        },
        "outputId": "8a274a7b-ada3-40cc-8dd7-cbdbda397fb0"
      },
      "execution_count": null,
      "outputs": [
        {
          "output_type": "execute_result",
          "data": {
            "text/plain": [
              "{1, 3}"
            ]
          },
          "metadata": {},
          "execution_count": 57
        }
      ]
    },
    {
      "cell_type": "markdown",
      "source": [
        "### 3.5. Dictionary - Mapping Type (ดิกชันนารี - ชนิดข้อมูลการจับคู่)"
      ],
      "metadata": {
        "id": "xThfyV3cLF2V"
      }
    },
    {
      "cell_type": "code",
      "source": [
        "# Dictionary creation\n",
        "# Creates a dictionary with two key-value pairs\n",
        "\n",
        "d = {\"name\": \"John\", \"age\": 20}\n",
        "d"
      ],
      "metadata": {
        "id": "ogu-6NkzKnOk",
        "colab": {
          "base_uri": "https://localhost:8080/"
        },
        "outputId": "683cc5d2-eda5-489f-97e5-f4ed9bb4a49e"
      },
      "execution_count": null,
      "outputs": [
        {
          "output_type": "execute_result",
          "data": {
            "text/plain": [
              "{'name': 'John', 'age': 20}"
            ]
          },
          "metadata": {},
          "execution_count": 58
        }
      ]
    },
    {
      "cell_type": "code",
      "source": [
        "# Add new key-value\n",
        "# Adds a new email key with value \"j@email.com\" to the dictionary\n",
        "\n",
        "d[\"email\"] = \"j@email.com\"\n",
        "d"
      ],
      "metadata": {
        "id": "5Mt_BkIKLkvJ",
        "colab": {
          "base_uri": "https://localhost:8080/"
        },
        "outputId": "f2c6e863-09d2-486a-ab63-e38e53453ee0"
      },
      "execution_count": null,
      "outputs": [
        {
          "output_type": "execute_result",
          "data": {
            "text/plain": [
              "{'name': 'John', 'age': 20, 'email': 'j@email.com'}"
            ]
          },
          "metadata": {},
          "execution_count": 59
        }
      ]
    },
    {
      "cell_type": "code",
      "source": [
        "# Access value\n",
        "# Retrieves the value associated with key \"name\", returns \"John\"\n",
        "\n",
        "d[\"name\"]"
      ],
      "metadata": {
        "id": "uBE3EQ8KLj1m",
        "colab": {
          "base_uri": "https://localhost:8080/",
          "height": 35
        },
        "outputId": "7b6ee519-b85a-4a33-9526-6eaebe7b7cd3"
      },
      "execution_count": null,
      "outputs": [
        {
          "output_type": "execute_result",
          "data": {
            "text/plain": [
              "'John'"
            ],
            "application/vnd.google.colaboratory.intrinsic+json": {
              "type": "string"
            }
          },
          "metadata": {},
          "execution_count": 60
        }
      ]
    },
    {
      "cell_type": "code",
      "source": [
        "d[\"email\"]"
      ],
      "metadata": {
        "colab": {
          "base_uri": "https://localhost:8080/",
          "height": 35
        },
        "id": "8xt-D75N2lvJ",
        "outputId": "49182a6c-315b-44ec-e1cf-2f5a93c9a444"
      },
      "execution_count": null,
      "outputs": [
        {
          "output_type": "execute_result",
          "data": {
            "text/plain": [
              "'j@email.com'"
            ],
            "application/vnd.google.colaboratory.intrinsic+json": {
              "type": "string"
            }
          },
          "metadata": {},
          "execution_count": 61
        }
      ]
    },
    {
      "cell_type": "code",
      "source": [
        "# Get all keys\n",
        "# Returns a view object of all keys in the dictionary: dict_keys(['name'])\n",
        "\n",
        "d.keys()"
      ],
      "metadata": {
        "id": "haw1kjajLjHZ",
        "colab": {
          "base_uri": "https://localhost:8080/"
        },
        "outputId": "7149962e-f9ea-4944-ccec-d07aca620107"
      },
      "execution_count": null,
      "outputs": [
        {
          "output_type": "execute_result",
          "data": {
            "text/plain": [
              "dict_keys(['name', 'age', 'email'])"
            ]
          },
          "metadata": {},
          "execution_count": 62
        }
      ]
    },
    {
      "cell_type": "code",
      "source": [
        "# Get all values\n",
        "# Returns a view object of all values in the dictionary: dict_values(['John'])\n",
        "\n",
        "d.values()"
      ],
      "metadata": {
        "id": "Mst4xQLkLiT0",
        "colab": {
          "base_uri": "https://localhost:8080/"
        },
        "outputId": "766a78c8-dec3-45ea-cb4e-a050b2161a7d"
      },
      "execution_count": null,
      "outputs": [
        {
          "output_type": "execute_result",
          "data": {
            "text/plain": [
              "dict_values(['John', 20, 'j@email.com'])"
            ]
          },
          "metadata": {},
          "execution_count": 63
        }
      ]
    },
    {
      "cell_type": "code",
      "source": [
        "# Get key-value pairs\n",
        "# Returns a view object of all key-value pairs as tuples\n",
        "\n",
        "d.items()"
      ],
      "metadata": {
        "id": "BEbBy_bOLfiv",
        "colab": {
          "base_uri": "https://localhost:8080/"
        },
        "outputId": "0296c81e-24de-4757-e6c0-a7960b2582b0"
      },
      "execution_count": null,
      "outputs": [
        {
          "output_type": "execute_result",
          "data": {
            "text/plain": [
              "dict_items([('name', 'John'), ('age', 20), ('email', 'j@email.com')])"
            ]
          },
          "metadata": {},
          "execution_count": 64
        }
      ]
    },
    {
      "cell_type": "code",
      "source": [
        "# Nested dictionaries\n",
        "# ดิกชันนารีซ้อนดิกชันนารี\n",
        "\n",
        "d2 = {\n",
        "    \"students\": {\n",
        "        \"john\": {\"grade\": \"A\"},\n",
        "        \"mary\": {\"grade\": \"B\"}\n",
        "    },\n",
        "    \"teachers\": {\n",
        "        \"peter\": {\"subject\": \"math\"},\n",
        "        \"susan\": {\"subject\": \"english\"}\n",
        "    }\n",
        "}\n",
        "\n",
        "d2"
      ],
      "metadata": {
        "id": "sCas1Rlig7hu",
        "colab": {
          "base_uri": "https://localhost:8080/"
        },
        "outputId": "7f08a00f-534a-4437-d284-430be1feab22"
      },
      "execution_count": null,
      "outputs": [
        {
          "output_type": "execute_result",
          "data": {
            "text/plain": [
              "{'students': {'john': {'grade': 'A'}, 'mary': {'grade': 'B'}},\n",
              " 'teachers': {'peter': {'subject': 'math'}, 'susan': {'subject': 'english'}}}"
            ]
          },
          "metadata": {},
          "execution_count": 65
        }
      ]
    },
    {
      "cell_type": "code",
      "source": [
        "d2[\"students\"]"
      ],
      "metadata": {
        "id": "F74pva3UhNjy",
        "colab": {
          "base_uri": "https://localhost:8080/"
        },
        "outputId": "7d60a75f-432a-4cf7-e5ef-1d7819680e0b"
      },
      "execution_count": null,
      "outputs": [
        {
          "output_type": "execute_result",
          "data": {
            "text/plain": [
              "{'john': {'grade': 'A'}, 'mary': {'grade': 'B'}}"
            ]
          },
          "metadata": {},
          "execution_count": 66
        }
      ]
    },
    {
      "cell_type": "code",
      "source": [
        "d2[\"teachers\"]"
      ],
      "metadata": {
        "id": "Ys_crkxghT3f",
        "colab": {
          "base_uri": "https://localhost:8080/"
        },
        "outputId": "8e8a3dfd-572a-4d5e-a29f-38d2f05ea5f0"
      },
      "execution_count": null,
      "outputs": [
        {
          "output_type": "execute_result",
          "data": {
            "text/plain": [
              "{'peter': {'subject': 'math'}, 'susan': {'subject': 'english'}}"
            ]
          },
          "metadata": {},
          "execution_count": 67
        }
      ]
    },
    {
      "cell_type": "markdown",
      "source": [
        "### 3.6. Boolean Type (ชนิดข้อมูลบูลีน)"
      ],
      "metadata": {
        "id": "W5BXS264hiNw"
      }
    },
    {
      "cell_type": "markdown",
      "source": [
        "Boolean values"
      ],
      "metadata": {
        "id": "Nni0cMPGh8uQ"
      }
    },
    {
      "cell_type": "code",
      "source": [
        "is_student = True\n",
        "is_working = False"
      ],
      "metadata": {
        "id": "veX684azhdln"
      },
      "execution_count": null,
      "outputs": []
    },
    {
      "cell_type": "markdown",
      "source": [
        "Boolean operations"
      ],
      "metadata": {
        "id": "RJCI7-G-h_Xq"
      }
    },
    {
      "cell_type": "code",
      "source": [
        "is_student"
      ],
      "metadata": {
        "colab": {
          "base_uri": "https://localhost:8080/"
        },
        "id": "syEzi1463z7r",
        "outputId": "682f48ea-a666-49d2-d0a4-0682a98d23b9"
      },
      "execution_count": null,
      "outputs": [
        {
          "output_type": "execute_result",
          "data": {
            "text/plain": [
              "True"
            ]
          },
          "metadata": {},
          "execution_count": 71
        }
      ]
    },
    {
      "cell_type": "code",
      "source": [
        "is_working"
      ],
      "metadata": {
        "colab": {
          "base_uri": "https://localhost:8080/"
        },
        "id": "kaKt1oFe31vs",
        "outputId": "f2292e7c-9b42-4787-e324-32dbb22edcc9"
      },
      "execution_count": null,
      "outputs": [
        {
          "output_type": "execute_result",
          "data": {
            "text/plain": [
              "False"
            ]
          },
          "metadata": {},
          "execution_count": 72
        }
      ]
    },
    {
      "cell_type": "code",
      "source": [
        "# AND operation\n",
        "is_student and is_working"
      ],
      "metadata": {
        "id": "QrD0olkJhn6S",
        "colab": {
          "base_uri": "https://localhost:8080/"
        },
        "outputId": "dd843dfa-a110-4ef4-e5a5-22cbf87dbded"
      },
      "execution_count": null,
      "outputs": [
        {
          "output_type": "execute_result",
          "data": {
            "text/plain": [
              "False"
            ]
          },
          "metadata": {},
          "execution_count": 69
        }
      ]
    },
    {
      "cell_type": "code",
      "source": [
        "# OR operation\n",
        "is_student or is_working"
      ],
      "metadata": {
        "id": "jF8tZUKMh6Jc",
        "colab": {
          "base_uri": "https://localhost:8080/"
        },
        "outputId": "d5160ef1-9182-4c5a-cb4d-f293803e9a08"
      },
      "execution_count": null,
      "outputs": [
        {
          "output_type": "execute_result",
          "data": {
            "text/plain": [
              "True"
            ]
          },
          "metadata": {},
          "execution_count": 70
        }
      ]
    },
    {
      "cell_type": "code",
      "source": [
        "# NOT operation\n",
        "not is_student"
      ],
      "metadata": {
        "id": "ZR6fwGp7h0y5",
        "colab": {
          "base_uri": "https://localhost:8080/"
        },
        "outputId": "2207dc0e-767a-47b5-c19d-6dbf00ca18ef"
      },
      "execution_count": null,
      "outputs": [
        {
          "output_type": "execute_result",
          "data": {
            "text/plain": [
              "False"
            ]
          },
          "metadata": {},
          "execution_count": 73
        }
      ]
    },
    {
      "cell_type": "code",
      "source": [
        "not is_working"
      ],
      "metadata": {
        "colab": {
          "base_uri": "https://localhost:8080/"
        },
        "id": "hWyq3MuB3-n7",
        "outputId": "b470d6c0-0fce-49a1-9242-3dd941dd2073"
      },
      "execution_count": null,
      "outputs": [
        {
          "output_type": "execute_result",
          "data": {
            "text/plain": [
              "True"
            ]
          },
          "metadata": {},
          "execution_count": 74
        }
      ]
    },
    {
      "cell_type": "markdown",
      "source": [
        "Comparison operators"
      ],
      "metadata": {
        "id": "ZVm0kRjjiNe2"
      }
    },
    {
      "cell_type": "code",
      "source": [
        "# Less than\n",
        "5 < 10"
      ],
      "metadata": {
        "id": "8v3U3dk6iBbp",
        "colab": {
          "base_uri": "https://localhost:8080/"
        },
        "outputId": "f7a440ba-ea33-41bf-90a4-46fc2dbf166d"
      },
      "execution_count": null,
      "outputs": [
        {
          "output_type": "execute_result",
          "data": {
            "text/plain": [
              "True"
            ]
          },
          "metadata": {},
          "execution_count": 75
        }
      ]
    },
    {
      "cell_type": "code",
      "source": [
        "# Equal to\n",
        "5 == 10"
      ],
      "metadata": {
        "id": "6MslCdf8iVks",
        "colab": {
          "base_uri": "https://localhost:8080/"
        },
        "outputId": "9147a27f-10c8-458e-acec-82b88fe1147a"
      },
      "execution_count": null,
      "outputs": [
        {
          "output_type": "execute_result",
          "data": {
            "text/plain": [
              "False"
            ]
          },
          "metadata": {},
          "execution_count": 76
        }
      ]
    },
    {
      "cell_type": "code",
      "source": [
        "# Greater than or equal to\n",
        "5 >= 3"
      ],
      "metadata": {
        "id": "Ey3tpDntiUu8",
        "colab": {
          "base_uri": "https://localhost:8080/"
        },
        "outputId": "8119c79b-5477-4a0f-c01b-aac49b16bddf"
      },
      "execution_count": null,
      "outputs": [
        {
          "output_type": "execute_result",
          "data": {
            "text/plain": [
              "True"
            ]
          },
          "metadata": {},
          "execution_count": 77
        }
      ]
    },
    {
      "cell_type": "markdown",
      "source": [
        "### 3.7. None type"
      ],
      "metadata": {
        "id": "Te8P2XnBideu"
      }
    },
    {
      "cell_type": "code",
      "source": [
        "k = None\n",
        "l = 2\n",
        "m = \"Hello\""
      ],
      "metadata": {
        "id": "ctDp7FmciZOA"
      },
      "execution_count": null,
      "outputs": []
    },
    {
      "cell_type": "code",
      "source": [
        "k is None"
      ],
      "metadata": {
        "id": "EoK3uSDpjR6F",
        "colab": {
          "base_uri": "https://localhost:8080/"
        },
        "outputId": "8c28d33c-0c7e-4b7d-ee28-26f6a2763267"
      },
      "execution_count": null,
      "outputs": [
        {
          "output_type": "execute_result",
          "data": {
            "text/plain": [
              "True"
            ]
          },
          "metadata": {},
          "execution_count": 79
        }
      ]
    },
    {
      "cell_type": "code",
      "source": [
        "l is None"
      ],
      "metadata": {
        "id": "BGNA2VrQjVAT",
        "colab": {
          "base_uri": "https://localhost:8080/"
        },
        "outputId": "3013fa5b-092c-4f86-fae7-579f05caf14f"
      },
      "execution_count": null,
      "outputs": [
        {
          "output_type": "execute_result",
          "data": {
            "text/plain": [
              "False"
            ]
          },
          "metadata": {},
          "execution_count": 80
        }
      ]
    },
    {
      "cell_type": "code",
      "source": [
        "m is None"
      ],
      "metadata": {
        "id": "XMRWOG42jWNu",
        "colab": {
          "base_uri": "https://localhost:8080/"
        },
        "outputId": "c3bdf50b-07a9-44c2-c26a-798fe6c2161a"
      },
      "execution_count": null,
      "outputs": [
        {
          "output_type": "execute_result",
          "data": {
            "text/plain": [
              "False"
            ]
          },
          "metadata": {},
          "execution_count": 81
        }
      ]
    },
    {
      "cell_type": "markdown",
      "source": [
        "## 4. Functions (ฟังก์ชัน)"
      ],
      "metadata": {
        "id": "V7kGPugekpm5"
      }
    },
    {
      "cell_type": "markdown",
      "source": [
        "Basic function\n",
        "\n",
        "ฟังก์ชันพื้นฐาน"
      ],
      "metadata": {
        "id": "hp14xQ2kk7oa"
      }
    },
    {
      "cell_type": "code",
      "source": [
        "def greet(name):\n",
        "    return f\"Hello, {name}!\""
      ],
      "metadata": {
        "id": "gaqHnZMHjcIy"
      },
      "execution_count": null,
      "outputs": []
    },
    {
      "cell_type": "code",
      "source": [
        "greet(\"Chanin\")"
      ],
      "metadata": {
        "id": "Dho_D2Idkvog",
        "colab": {
          "base_uri": "https://localhost:8080/",
          "height": 35
        },
        "outputId": "81104a0c-c609-4988-d34c-8422a0858336"
      },
      "execution_count": null,
      "outputs": [
        {
          "output_type": "execute_result",
          "data": {
            "text/plain": [
              "'Hello, Chanin!'"
            ],
            "application/vnd.google.colaboratory.intrinsic+json": {
              "type": "string"
            }
          },
          "metadata": {},
          "execution_count": 83
        }
      ]
    },
    {
      "cell_type": "code",
      "source": [
        "greet(\"Cherry\")"
      ],
      "metadata": {
        "colab": {
          "base_uri": "https://localhost:8080/",
          "height": 35
        },
        "id": "F7sB-8pn5egn",
        "outputId": "53a9173e-b734-497a-f72f-8b28e5d71b76"
      },
      "execution_count": null,
      "outputs": [
        {
          "output_type": "execute_result",
          "data": {
            "text/plain": [
              "'Hello, Cherry!'"
            ],
            "application/vnd.google.colaboratory.intrinsic+json": {
              "type": "string"
            }
          },
          "metadata": {},
          "execution_count": 84
        }
      ]
    },
    {
      "cell_type": "markdown",
      "source": [
        "Function with multiple parameters\n",
        "\n",
        "ฟังก์ชันที่มีพารามิเตอร์หลายตัว"
      ],
      "metadata": {
        "id": "WBnixXP2lAaC"
      }
    },
    {
      "cell_type": "code",
      "source": [
        "def calculate_rectangle_area(length, width):\n",
        "    return length * width"
      ],
      "metadata": {
        "id": "blZZF3uxk0xo"
      },
      "execution_count": null,
      "outputs": []
    },
    {
      "cell_type": "code",
      "source": [
        "calculate_rectangle_area(5, 3)"
      ],
      "metadata": {
        "id": "wb8o9zBylSzZ",
        "colab": {
          "base_uri": "https://localhost:8080/"
        },
        "outputId": "9e15867c-83f5-4a9b-ad19-40ea1986949f"
      },
      "execution_count": null,
      "outputs": [
        {
          "output_type": "execute_result",
          "data": {
            "text/plain": [
              "15"
            ]
          },
          "metadata": {},
          "execution_count": 86
        }
      ]
    },
    {
      "cell_type": "markdown",
      "source": [
        "Function with default parameter\n",
        "\n",
        "ฟังก์ชันที่มีพารามิเตอร์เริ่มต้น"
      ],
      "metadata": {
        "id": "EjYqXIHvlDsm"
      }
    },
    {
      "cell_type": "code",
      "source": [
        "def power(base, exponent=2):\n",
        "    return base ** exponent"
      ],
      "metadata": {
        "id": "EG2vSFjDlMFD"
      },
      "execution_count": null,
      "outputs": []
    },
    {
      "cell_type": "code",
      "source": [
        "power(3)"
      ],
      "metadata": {
        "id": "zgDXA79JlYCy",
        "colab": {
          "base_uri": "https://localhost:8080/"
        },
        "outputId": "97b37f50-593e-45bc-da96-6b534151f7fb"
      },
      "execution_count": null,
      "outputs": [
        {
          "output_type": "execute_result",
          "data": {
            "text/plain": [
              "9"
            ]
          },
          "metadata": {},
          "execution_count": 88
        }
      ]
    },
    {
      "cell_type": "code",
      "source": [
        "power(3, 3)"
      ],
      "metadata": {
        "id": "Lr5naad5lcxA",
        "colab": {
          "base_uri": "https://localhost:8080/"
        },
        "outputId": "9fc3c6e8-81e2-4ad7-8a80-5bf1e3378f42"
      },
      "execution_count": null,
      "outputs": [
        {
          "output_type": "execute_result",
          "data": {
            "text/plain": [
              "27"
            ]
          },
          "metadata": {},
          "execution_count": 89
        }
      ]
    },
    {
      "cell_type": "markdown",
      "source": [
        "Lambda function\n",
        "\n",
        "ฟังก์ชันแลมบ์ดา\n"
      ],
      "metadata": {
        "id": "Jhn34lI8lFZh"
      }
    },
    {
      "cell_type": "code",
      "source": [
        "square = lambda x: x * x"
      ],
      "metadata": {
        "id": "MvfjiR4YlhmH"
      },
      "execution_count": null,
      "outputs": []
    },
    {
      "cell_type": "code",
      "source": [
        "square(4)"
      ],
      "metadata": {
        "id": "Hh9wJtzpliDk",
        "colab": {
          "base_uri": "https://localhost:8080/"
        },
        "outputId": "c72493eb-bb5e-42e7-f28a-8e367991bc87"
      },
      "execution_count": null,
      "outputs": [
        {
          "output_type": "execute_result",
          "data": {
            "text/plain": [
              "16"
            ]
          },
          "metadata": {},
          "execution_count": 91
        }
      ]
    },
    {
      "cell_type": "markdown",
      "source": [
        "## 5. Control Flow (การควบคุมการทำงาน)"
      ],
      "metadata": {
        "id": "2NkJhtwamEEh"
      }
    },
    {
      "cell_type": "markdown",
      "source": [
        "### 5.1. If Statements (คำสั่ง if)\n",
        "\n",
        "Example of if-elif-else\n",
        "\n",
        "ตัวอย่างการใช้ if-elif-else"
      ],
      "metadata": {
        "id": "eEkxnB3KmaHW"
      }
    },
    {
      "cell_type": "code",
      "source": [
        "def check_age_group(age):\n",
        "    if age < 13:\n",
        "        return \"Child (เด็ก)\"\n",
        "    elif age < 20:\n",
        "        return \"Teenager (วัยรุ่น)\"\n",
        "    else:\n",
        "        return \"Adult (ผู้ใหญ่)\""
      ],
      "metadata": {
        "id": "3HTN79zalkmN"
      },
      "execution_count": null,
      "outputs": []
    },
    {
      "cell_type": "code",
      "source": [
        "check_age_group(5)"
      ],
      "metadata": {
        "id": "Xtrw-sbcmtdg",
        "colab": {
          "base_uri": "https://localhost:8080/",
          "height": 35
        },
        "outputId": "21ccb35a-b564-432f-ef4f-c6400516554e"
      },
      "execution_count": null,
      "outputs": [
        {
          "output_type": "execute_result",
          "data": {
            "text/plain": [
              "'Child (เด็ก)'"
            ],
            "application/vnd.google.colaboratory.intrinsic+json": {
              "type": "string"
            }
          },
          "metadata": {},
          "execution_count": 93
        }
      ]
    },
    {
      "cell_type": "code",
      "source": [
        "check_age_group(18)"
      ],
      "metadata": {
        "id": "ShQ-VjT3mv9y",
        "colab": {
          "base_uri": "https://localhost:8080/",
          "height": 35
        },
        "outputId": "39c37682-bdea-408d-a47b-9df3aa343864"
      },
      "execution_count": null,
      "outputs": [
        {
          "output_type": "execute_result",
          "data": {
            "text/plain": [
              "'Teenager (วัยรุ่น)'"
            ],
            "application/vnd.google.colaboratory.intrinsic+json": {
              "type": "string"
            }
          },
          "metadata": {},
          "execution_count": 94
        }
      ]
    },
    {
      "cell_type": "code",
      "source": [
        "check_age_group(20)"
      ],
      "metadata": {
        "id": "n2674IgkmyIW",
        "colab": {
          "base_uri": "https://localhost:8080/",
          "height": 35
        },
        "outputId": "87474233-ad7b-4088-d67e-e242cfc1df6d"
      },
      "execution_count": null,
      "outputs": [
        {
          "output_type": "execute_result",
          "data": {
            "text/plain": [
              "'Adult (ผู้ใหญ่)'"
            ],
            "application/vnd.google.colaboratory.intrinsic+json": {
              "type": "string"
            }
          },
          "metadata": {},
          "execution_count": 95
        }
      ]
    },
    {
      "cell_type": "markdown",
      "source": [
        "### 5.2. Loops (การวนซ้ำ)"
      ],
      "metadata": {
        "id": "cneF2BU8mcmC"
      }
    },
    {
      "cell_type": "markdown",
      "source": [
        "For loop examples (ตัวอย่างการใช้ for)"
      ],
      "metadata": {
        "id": "V9GZrDQsm-OL"
      }
    },
    {
      "cell_type": "code",
      "source": [
        "# Basic counting\n",
        "# นับพื้นฐาน\n",
        "for i in range(3):\n",
        "  print(i)"
      ],
      "metadata": {
        "id": "2c1ZWhkrmeqX",
        "colab": {
          "base_uri": "https://localhost:8080/"
        },
        "outputId": "5a716695-0948-417f-890b-a89082722354"
      },
      "execution_count": null,
      "outputs": [
        {
          "output_type": "stream",
          "name": "stdout",
          "text": [
            "0\n",
            "1\n",
            "2\n"
          ]
        }
      ]
    },
    {
      "cell_type": "code",
      "source": [
        "# Iterating list\n",
        "# วนซ้ำในลิสต์\n",
        "for fruit in [\"apple\", \"banana\"]:\n",
        "    print(fruit)"
      ],
      "metadata": {
        "id": "BOiIpSzYnBFC",
        "colab": {
          "base_uri": "https://localhost:8080/"
        },
        "outputId": "eba0581f-5747-47ac-d318-447b72098502"
      },
      "execution_count": null,
      "outputs": [
        {
          "output_type": "stream",
          "name": "stdout",
          "text": [
            "apple\n",
            "banana\n"
          ]
        }
      ]
    },
    {
      "cell_type": "code",
      "source": [
        "# While loop example\n",
        "# ตัวอย่างการใช้ while\n",
        "def countdown(start):\n",
        "  while start > 0:\n",
        "    print(start)\n",
        "    start -= 1\n",
        "\n",
        "countdown(5)"
      ],
      "metadata": {
        "id": "jNor4sionMSI",
        "colab": {
          "base_uri": "https://localhost:8080/"
        },
        "outputId": "5f23cf9d-4047-4288-fd4e-db856f887961"
      },
      "execution_count": null,
      "outputs": [
        {
          "output_type": "stream",
          "name": "stdout",
          "text": [
            "5\n",
            "4\n",
            "3\n",
            "2\n",
            "1\n"
          ]
        }
      ]
    },
    {
      "cell_type": "code",
      "source": [
        "# Break and continue example\n",
        "# ตัวอย่างการใช้ break และ continue\n",
        "for i in range(5):\n",
        "  if i == 2:\n",
        "    continue    # Skip 2 (ข้าม 2)\n",
        "  if i == 4:\n",
        "    break       # Stop at 4 (หยุดที่ 4)\n",
        "  print(i)"
      ],
      "metadata": {
        "id": "vAJlrp2Qnajp"
      },
      "execution_count": null,
      "outputs": []
    },
    {
      "cell_type": "markdown",
      "source": [
        "## 6. Error Handling (การจัดการข้อผิดพลาด)"
      ],
      "metadata": {
        "id": "c_-DXeEEn2yD"
      }
    },
    {
      "cell_type": "code",
      "source": [
        "def safe_divide(a, b):\n",
        "  try:\n",
        "    return a / b\n",
        "  except ZeroDivisionError:\n",
        "    return \"Cannot divide by zero (ไม่สามารถหารด้วยศูนย์)\"\n",
        "  except TypeError:\n",
        "    return \"Invalid input types (ชนิดข้อมูลไม่ถูกต้อง)\""
      ],
      "metadata": {
        "id": "zhxSorX5nmjg"
      },
      "execution_count": null,
      "outputs": []
    },
    {
      "cell_type": "code",
      "source": [
        "safe_divide(5, 2)"
      ],
      "metadata": {
        "id": "yuLVWpGNn9Vf",
        "colab": {
          "base_uri": "https://localhost:8080/"
        },
        "outputId": "b7fac65a-907b-4cff-8119-9624acd237da"
      },
      "execution_count": null,
      "outputs": [
        {
          "output_type": "execute_result",
          "data": {
            "text/plain": [
              "2.5"
            ]
          },
          "metadata": {},
          "execution_count": 100
        }
      ]
    },
    {
      "cell_type": "code",
      "source": [
        "safe_divide(5, 0)"
      ],
      "metadata": {
        "id": "4H4zOx1YoIAL",
        "colab": {
          "base_uri": "https://localhost:8080/",
          "height": 35
        },
        "outputId": "97dc0156-57a3-4465-d403-35df833ad9e0"
      },
      "execution_count": null,
      "outputs": [
        {
          "output_type": "execute_result",
          "data": {
            "text/plain": [
              "'Cannot divide by zero (ไม่สามารถหารด้วยศูนย์)'"
            ],
            "application/vnd.google.colaboratory.intrinsic+json": {
              "type": "string"
            }
          },
          "metadata": {},
          "execution_count": 101
        }
      ]
    },
    {
      "cell_type": "code",
      "source": [
        "safe_divide(5, 'a')"
      ],
      "metadata": {
        "id": "ERSNzD4ToJTX",
        "colab": {
          "base_uri": "https://localhost:8080/",
          "height": 35
        },
        "outputId": "f2f82156-79fe-4e2d-8638-ad0d4875c5fd"
      },
      "execution_count": null,
      "outputs": [
        {
          "output_type": "execute_result",
          "data": {
            "text/plain": [
              "'Invalid input types (ชนิดข้อมูลไม่ถูกต้อง)'"
            ],
            "application/vnd.google.colaboratory.intrinsic+json": {
              "type": "string"
            }
          },
          "metadata": {},
          "execution_count": 102
        }
      ]
    },
    {
      "cell_type": "markdown",
      "source": [
        "## 7. File Operations (การทำงานกับไฟล์)"
      ],
      "metadata": {
        "id": "-9VdMYZNoVnt"
      }
    },
    {
      "cell_type": "markdown",
      "source": [
        "Writing to files\n",
        "\n",
        "การเขียนไฟล์"
      ],
      "metadata": {
        "id": "mRxWdIqkpBzK"
      }
    },
    {
      "cell_type": "code",
      "source": [
        "with open(\"example.txt\", \"w\", encoding=\"utf-8\") as file:\n",
        "  file.write(\"Hello, World!\\n\")\n",
        "  file.write(\"Line 2\")"
      ],
      "metadata": {
        "id": "M7Re0ZwHoLFP"
      },
      "execution_count": null,
      "outputs": []
    },
    {
      "cell_type": "code",
      "source": [
        "file2 = open(\"example2.txt\", \"w\", encoding=\"utf-8\")\n",
        "file2.write(\"Hello, World!\\n\")\n",
        "file2.write(\"Line 2\")\n",
        "file2.close()"
      ],
      "metadata": {
        "id": "PUyuvzC39JE3"
      },
      "execution_count": null,
      "outputs": []
    },
    {
      "cell_type": "markdown",
      "source": [
        "Reading files\n",
        "\n",
        "การอ่านไฟล์"
      ],
      "metadata": {
        "id": "7dTB2W6kpFfO"
      }
    },
    {
      "cell_type": "code",
      "source": [
        "with open(\"example.txt\", \"r\", encoding=\"utf-8\") as file:\n",
        "  print(file.read())"
      ],
      "metadata": {
        "id": "efde6_ecoadZ",
        "colab": {
          "base_uri": "https://localhost:8080/"
        },
        "outputId": "520062c8-c507-4070-9f90-b4d14252ddab"
      },
      "execution_count": null,
      "outputs": [
        {
          "output_type": "stream",
          "name": "stdout",
          "text": [
            "Hello, World!\n",
            "Line 2\n"
          ]
        }
      ]
    },
    {
      "cell_type": "code",
      "source": [
        "with open(\"example.txt\", \"r\", encoding=\"utf-8\") as file:\n",
        "  content = file.read()"
      ],
      "metadata": {
        "id": "Po4R2swyo44F"
      },
      "execution_count": null,
      "outputs": []
    },
    {
      "cell_type": "code",
      "source": [
        "print(content)"
      ],
      "metadata": {
        "id": "mZqlpS7OogHM",
        "colab": {
          "base_uri": "https://localhost:8080/"
        },
        "outputId": "73e4cca7-aee7-4c83-b42a-3530124a00d9"
      },
      "execution_count": null,
      "outputs": [
        {
          "output_type": "stream",
          "name": "stdout",
          "text": [
            "Hello, World!\n",
            "Line 2\n"
          ]
        }
      ]
    },
    {
      "cell_type": "markdown",
      "source": [
        "## 8. Using Library functions (การใช้ฟังก์ชันจากไลบรารี)"
      ],
      "metadata": {
        "id": "KeASzI21p7OE"
      }
    },
    {
      "cell_type": "markdown",
      "source": [
        "Python comes equipped with:\n",
        "1. Built-in modules that can be imported and used right away\n",
        "2. Library functions that needs to first be installed prior to use\n",
        "\n",
        "Python มาพร้อมกับ:\n",
        "\n",
        "1. โมดูลในตัวที่สามารถนำเข้าและใช้งานได้ทันที\n",
        "2. ฟังก์ชันไลบรารีที่ต้องติดตั้งก่อนการใช้งาน"
      ],
      "metadata": {
        "id": "RsHhfZulqu2l"
      }
    },
    {
      "cell_type": "markdown",
      "source": [
        "### 8.1. Basic imports (การนำเข้าพื้นฐาน)"
      ],
      "metadata": {
        "id": "fHxwHwqzsX9i"
      }
    },
    {
      "cell_type": "code",
      "source": [
        "# Import entire module\n",
        "import random"
      ],
      "metadata": {
        "id": "sMKO7zuJpXqg"
      },
      "execution_count": null,
      "outputs": []
    },
    {
      "cell_type": "code",
      "source": [
        "# Import specific item\n",
        "from datetime import date"
      ],
      "metadata": {
        "id": "BED8jkJNsiHY"
      },
      "execution_count": null,
      "outputs": []
    },
    {
      "cell_type": "code",
      "source": [
        "# Import with alias\n",
        "import math as m"
      ],
      "metadata": {
        "id": "0qxOZECIsjji"
      },
      "execution_count": null,
      "outputs": []
    },
    {
      "cell_type": "markdown",
      "source": [
        "### 8.2. Using modules (การใช้งานโมดูล)"
      ],
      "metadata": {
        "id": "MhB7K__EspyT"
      }
    },
    {
      "cell_type": "code",
      "source": [
        "# Random number 1-6\n",
        "random.randint(1, 100)"
      ],
      "metadata": {
        "id": "KXEahN1usj3L",
        "colab": {
          "base_uri": "https://localhost:8080/"
        },
        "outputId": "6d3c1039-5848-4dc7-a830-c3a5516e65f5"
      },
      "execution_count": null,
      "outputs": [
        {
          "output_type": "execute_result",
          "data": {
            "text/plain": [
              "36"
            ]
          },
          "metadata": {},
          "execution_count": 122
        }
      ]
    },
    {
      "cell_type": "code",
      "source": [
        "# Current date\n",
        "date.today()"
      ],
      "metadata": {
        "id": "9X6Bj8zvsy9I",
        "colab": {
          "base_uri": "https://localhost:8080/"
        },
        "outputId": "84d8b3d7-617a-4086-e584-dff963770f33"
      },
      "execution_count": null,
      "outputs": [
        {
          "output_type": "execute_result",
          "data": {
            "text/plain": [
              "datetime.date(2025, 2, 16)"
            ]
          },
          "metadata": {},
          "execution_count": 123
        }
      ]
    },
    {
      "cell_type": "code",
      "source": [
        "# Square root of 16\n",
        "m.sqrt(16)"
      ],
      "metadata": {
        "id": "_VajqPunsyKV",
        "colab": {
          "base_uri": "https://localhost:8080/"
        },
        "outputId": "01c145d4-e5ee-4d08-8c54-5bf429fb20cc"
      },
      "execution_count": null,
      "outputs": [
        {
          "output_type": "execute_result",
          "data": {
            "text/plain": [
              "4.0"
            ]
          },
          "metadata": {},
          "execution_count": 124
        }
      ]
    },
    {
      "cell_type": "code",
      "source": [
        "# Current date and time\n",
        "from datetime import datetime\n",
        "\n",
        "datetime.now()"
      ],
      "metadata": {
        "id": "u-qPydrZs0KI",
        "colab": {
          "base_uri": "https://localhost:8080/"
        },
        "outputId": "bda56f0f-ba06-4886-f30b-c2a6405c7887"
      },
      "execution_count": null,
      "outputs": [
        {
          "output_type": "execute_result",
          "data": {
            "text/plain": [
              "datetime.datetime(2025, 2, 16, 8, 55, 54, 346558)"
            ]
          },
          "metadata": {},
          "execution_count": 125
        }
      ]
    },
    {
      "cell_type": "markdown",
      "source": [
        "## 9. Practice Exercise (แบบฝึกหัด)"
      ],
      "metadata": {
        "id": "h0jJCXQvt3UT"
      }
    },
    {
      "cell_type": "markdown",
      "source": [
        "### Exercise 1\n",
        "\n",
        "Can you build a Temperature Converter\n",
        "\n",
        "สร้างตัวแปลงอุณหภูมิ"
      ],
      "metadata": {
        "id": "rG1Nwr3-uFyV"
      }
    },
    {
      "cell_type": "code",
      "source": [
        "# Celsius to Fahrenheit\n",
        "def celsius_to_fahrenheit(celsius):\n",
        "  return ....."
      ],
      "metadata": {
        "id": "RDW-e07ctD6T"
      },
      "execution_count": null,
      "outputs": []
    },
    {
      "cell_type": "code",
      "source": [
        "# Fahrenheit to Celsius\n",
        "def fahrenheit_to_celsius(fahrenheit):\n",
        "  return ....."
      ],
      "metadata": {
        "id": "NguX9tf3uEls"
      },
      "execution_count": null,
      "outputs": []
    },
    {
      "cell_type": "markdown",
      "source": [
        "### Exercise 2\n",
        "\n",
        "Can you build a number guessing game\n",
        "\n",
        "สร้างเกมทายตัวเลข"
      ],
      "metadata": {
        "id": "FE2-kb2vvnG4"
      }
    },
    {
      "cell_type": "code",
      "source": [
        "import random\n",
        "\n",
        "def play_game():\n",
        "    secret_number = random.randint(1, 100)\n",
        "    print(\"Guess a number between 1 and 100!\")\n",
        "\n",
        "    while True:\n",
        "        guess = int(input(\"Your guess: \"))\n",
        "\n",
        "        if for_hint_see_hint_1:\n",
        "            print(\"You got it!\")\n",
        "            break\n",
        "        elif for_hint_see_hint_2:\n",
        "            print(\"Too low!\")\n",
        "        else:\n",
        "            print(\"Too high!\")\n",
        "\n",
        "play_game()"
      ],
      "metadata": {
        "id": "iRto6YwVv76V"
      },
      "execution_count": null,
      "outputs": []
    },
    {
      "cell_type": "markdown",
      "source": [
        "## Hint for Exercise 1"
      ],
      "metadata": {
        "id": "eemqsspYz34I"
      }
    },
    {
      "cell_type": "markdown",
      "source": [
        "### Hint 1"
      ],
      "metadata": {
        "id": "tkjqAcssz6zi"
      }
    },
    {
      "cell_type": "code",
      "source": [
        "(celsius * 9/5) + 32"
      ],
      "metadata": {
        "id": "rFVScDSkz553"
      },
      "execution_count": null,
      "outputs": []
    },
    {
      "cell_type": "markdown",
      "source": [
        "### Hint 2"
      ],
      "metadata": {
        "id": "NeG0fX380MWb"
      }
    },
    {
      "cell_type": "code",
      "source": [
        "(fahrenheit - 32) * 5/9"
      ],
      "metadata": {
        "id": "s9_atMjR0NnK"
      },
      "execution_count": null,
      "outputs": []
    },
    {
      "cell_type": "markdown",
      "source": [
        "## Hint for Exercise 2\n"
      ],
      "metadata": {
        "id": "4vmoh6YGygju"
      }
    },
    {
      "cell_type": "markdown",
      "source": [
        "### Hint 1"
      ],
      "metadata": {
        "id": "4D_sW2PTy9vl"
      }
    },
    {
      "cell_type": "code",
      "source": [
        "guess == secret_number"
      ],
      "metadata": {
        "id": "D2rvVuLrzJe2"
      },
      "execution_count": null,
      "outputs": []
    },
    {
      "cell_type": "markdown",
      "source": [
        "### Hint 2"
      ],
      "metadata": {
        "id": "ESBdFhmmy_3I"
      }
    },
    {
      "cell_type": "code",
      "source": [
        "guess < secret_number"
      ],
      "metadata": {
        "id": "CptgDWTezLqh"
      },
      "execution_count": null,
      "outputs": []
    }
  ],
  "metadata": {
    "kernelspec": {
      "display_name": "Python 3",
      "language": "python",
      "name": "python3"
    },
    "language_info": {
      "codemirror_mode": {
        "name": "ipython",
        "version": 3
      },
      "file_extension": ".py",
      "mimetype": "text/x-python",
      "name": "python",
      "nbconvert_exporter": "python",
      "pygments_lexer": "ipython3",
      "version": "3.8.0"
    },
    "colab": {
      "provenance": [],
      "collapsed_sections": [
        "eemqsspYz34I",
        "tkjqAcssz6zi",
        "NeG0fX380MWb",
        "4vmoh6YGygju",
        "4D_sW2PTy9vl",
        "ESBdFhmmy_3I"
      ]
    }
  },
  "nbformat": 4,
  "nbformat_minor": 0
}